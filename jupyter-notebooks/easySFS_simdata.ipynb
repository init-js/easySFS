{
 "cells": [
  {
   "cell_type": "code",
   "execution_count": 2,
   "metadata": {},
   "outputs": [
    {
     "name": "stdout",
     "output_type": "stream",
     "text": [
      "The autoreload extension is already loaded. To reload it, use:\n",
      "  %reload_ext autoreload\n",
      "0.9.65\n"
     ]
    }
   ],
   "source": [
    "%load_ext autoreload\n",
    "%autoreload 2\n",
    "import ipyrad\n",
    "import ipyrad.analysis as ipa\n",
    "import ipcoal\n",
    "import matplotlib.pyplot as plt\n",
    "import msprime\n",
    "import numpy as np\n",
    "import toytree\n",
    "import toyplot\n",
    "print(ipyrad.__version__)"
   ]
  },
  {
   "cell_type": "code",
   "execution_count": 27,
   "metadata": {},
   "outputs": [
    {
     "data": {
      "text/plain": [
       "array([0.        , 0.1732852 , 0.03971119, 0.01805054, 0.        ,\n",
       "       0.        , 0.        , 0.        , 0.        , 0.        ,\n",
       "       0.        , 0.14801444, 0.07220217, 0.00361011, 0.00722022,\n",
       "       0.01083032, 0.        , 0.        , 0.        , 0.        ,\n",
       "       0.        , 0.        , 0.03249097, 0.03610108, 0.03249097,\n",
       "       0.03610108, 0.02166065, 0.01083032, 0.00361011, 0.        ,\n",
       "       0.        , 0.        , 0.        , 0.01083032, 0.02166065,\n",
       "       0.02888087, 0.01444043, 0.01444043, 0.01083032, 0.        ,\n",
       "       0.        , 0.        , 0.        , 0.        , 0.00361011,\n",
       "       0.01805054, 0.01444043, 0.03610108, 0.04693141, 0.03971119,\n",
       "       0.00361011, 0.        , 0.        , 0.        , 0.        ,\n",
       "       0.00361011, 0.        , 0.02166065, 0.01805054, 0.01083032,\n",
       "       0.01444043, 0.        , 0.        , 0.        , 0.        ,\n",
       "       0.        , 0.        , 0.        , 0.        , 0.01083032,\n",
       "       0.        , 0.        , 0.        , 0.        , 0.        ,\n",
       "       0.        , 0.        , 0.        , 0.00361011, 0.00722022,\n",
       "       0.        , 0.        , 0.        , 0.        , 0.        ,\n",
       "       0.        , 0.        , 0.        , 0.        , 0.        ,\n",
       "       0.        , 0.        , 0.        , 0.        , 0.        ,\n",
       "       0.        , 0.        , 0.        , 0.        , 0.        ,\n",
       "       0.        , 0.        , 0.        , 0.        , 0.        ,\n",
       "       0.        , 0.        , 0.        , 0.        , 0.        ,\n",
       "       0.        , 0.        , 0.        , 0.        , 0.        ,\n",
       "       0.        , 0.        , 0.        , 0.        , 0.        ,\n",
       "       0.        ])"
      ]
     },
     "execution_count": 27,
     "metadata": {},
     "output_type": "execute_result"
    }
   ],
   "source": [
    "# Many loci\n",
    "def simloci(sample_size_pop1=10,\n",
    "            sample_size_pop2=10,\n",
    "            get_pis=False,\n",
    "            TMRCA=220e3,\n",
    "            Ne=100000,\n",
    "            Ne_ratio=1,\n",
    "            mig=3e-3,\n",
    "            sequence_length=100,\n",
    "            num_replicates=10,\n",
    "            debug=False):\n",
    "\n",
    "    T_MRCA = TMRCA\n",
    "    m_a_u = mig\n",
    "    m_b_u = mig\n",
    "\n",
    "    migmat = [[0, mig], [mig, 0]]\n",
    "    sample_size_a=sample_size_pop1\n",
    "    sample_size_b=sample_size_pop2\n",
    "\n",
    "    ancpopa = msprime.PopulationConfiguration(sample_size=sample_size_a, initial_size=Ne)\n",
    "    ancpopb = msprime.PopulationConfiguration(sample_size=sample_size_b, initial_size=Ne/Ne_ratio)\n",
    "\n",
    "    ## All lineages coalesce at some point in the past\n",
    "    atou_event = msprime.MassMigration(time=T_MRCA, source=0, destination=1, proportion=1.0)\n",
    "\n",
    "#    au_change = msprime.MigrationRateChange(time=T_Extinction, rate=m_a_u, matrix_index=(0,1))\n",
    "#    ua_change = msprime.MigrationRateChange(time=T_Extinction, rate=m_a_u, matrix_index=(1,0))\n",
    "\n",
    "    demographic_events = [atou_event]\n",
    "\n",
    "    dp = msprime.DemographyDebugger(\n",
    "            Ne=Ne,\n",
    "            population_configurations=[ancpopa, ancpopb],\n",
    "            demographic_events=demographic_events)\n",
    "    if debug:\n",
    "        dp.print_history()\n",
    "\n",
    "    ts = msprime.simulate(length=sequence_length,\n",
    "            Ne=Ne,\n",
    "            mutation_rate=1e-8,\n",
    "            migration_matrix=migmat,\n",
    "            population_configurations=[ancpopa, ancpopb],\n",
    "            demographic_events=demographic_events,\n",
    "            num_replicates=num_replicates)\n",
    "\n",
    "    if debug:\n",
    "        tree = next(next(ts).trees())\n",
    "        f = \"/tmp/watt.svg\"\n",
    "        tree.draw(f, height=600, width=600)\n",
    "        show_svg(f)\n",
    "    pis0 = []\n",
    "    pis2 = []\n",
    "    divs = []\n",
    "    sfss = []\n",
    "    for tre in ts:\n",
    "        pop0 = tre.get_samples(0)\n",
    "        pop2 = tre.get_samples(1)\n",
    "        #pis0.append(tre.get_pairwise_diversity(pop0)/sequence_length)\n",
    "        #pis2.append(tre.get_pairwise_diversity(pop2)/sequence_length)\n",
    "        #divs.append(tre.divergence(sample_sets=[pop0, pop2]))\n",
    "        sfss.append(tre.allele_frequency_spectrum([pop0, pop2], polarised=False, span_normalise=False))\n",
    "\n",
    "    #return pis0, pis2, divs, sfss\n",
    "    return np.mean(pis0), np.mean(pis2), np.mean(divs), (np.sum(sfss, axis=0)/np.sum(sfss)).flatten()\n",
    "_, _, _, sfs = simloci(num_replicates=100)\n",
    "sfs"
   ]
  },
  {
   "cell_type": "code",
   "execution_count": 28,
   "metadata": {},
   "outputs": [
    {
     "data": {
      "text/plain": [
       "<matplotlib.image.AxesImage at 0x7f1804e68eb8>"
      ]
     },
     "execution_count": 28,
     "metadata": {},
     "output_type": "execute_result"
    },
    {
     "data": {
      "image/png": "[encoded data removed]",
      "text/plain": [
       "<Figure size 432x288 with 1 Axes>"
      ]
     },
     "metadata": {
      "needs_background": "light"
     },
     "output_type": "display_data"
    }
   ],
   "source": [
    "plt.imshow(np.reshape(sfs, (11, 11)), cmap=\"gray_r\")"
   ]
  },
  {
   "cell_type": "code",
   "execution_count": 30,
   "metadata": {},
   "outputs": [
    {
     "data": {
      "text/html": [
       "<div class=\"toyplot\" id=\"tbc7828cc3ce9401599dd1209402ac5a8\" style=\"text-align:center\"><svg class=\"toyplot-canvas-Canvas\" height=\"260.0px\" id=\"t4895531f79b042d2827c6813f6d96cb0\" preserveAspectRatio=\"xMidYMid meet\" style=\"background-color:transparent;border-color:#292724;border-style:none;border-width:1.0;fill:rgb(16.1%,15.3%,14.1%);fill-opacity:1.0;font-family:Helvetica;font-size:12px;opacity:1.0;stroke:rgb(16.1%,15.3%,14.1%);stroke-opacity:1.0;stroke-width:1.0\" viewBox=\"0 0 350.0 260.0\" width=\"350.0px\" xmlns=\"http://www.w3.org/2000/svg\" xmlns:toyplot=\"http://www.sandia.gov/toyplot\" xmlns:xlink=\"http://www.w3.org/1999/xlink\"><g class=\"toyplot-coordinates-Cartesian\" id=\"tbc01b5b7708c40a2bd5a8d78d3bb97bb\"><clipPath id=\"t5fe7f87fd8f94d0b8698000033e89e67\"><rect height=\"200.0\" width=\"290.0\" x=\"30.0\" y=\"30.0\"></rect></clipPath><g clip-path=\"url(#t5fe7f87fd8f94d0b8698000033e89e67)\"><g class=\"toytree-mark-Toytree\" id=\"t0c1a0fab614645c4af65083d9fd71331\"><g class=\"toytree-Edges\" style=\"fill:none;stroke:rgb(14.9%,14.9%,14.9%);stroke-linecap:round;stroke-opacity:1;stroke-width:2\"><path d=\"M 175.0 61.5 L 286.6 184.2\" id=\"2,1\"></path><path d=\"M 175.0 61.5 L 63.4 184.2\" id=\"2,0\"></path></g><g class=\"toytree-Nodes\" style=\"fill:rgb(40%,76.1%,64.7%);fill-opacity:1.0;stroke:rgb(14.9%,14.9%,14.9%);stroke-opacity:1.0;stroke-width:1\"><g id=\"node-0\" transform=\"translate(63.393,184.184)\"><circle r=\"7.5\"></circle></g><g id=\"node-1\" transform=\"translate(286.607,184.184)\"><circle r=\"7.5\"></circle></g><g id=\"node-2\" transform=\"translate(175.000,61.501)\"><circle r=\"7.5\"></circle></g></g><g class=\"toytree-NodeLabels\" style=\"fill:rgb(14.9%,14.9%,14.9%);fill-opacity:1.0;font-size:9px;stroke:none\"><g transform=\"translate(60.89,186.48)\"><text>0</text></g><g transform=\"translate(284.11,186.48)\"><text>1</text></g><g transform=\"translate(172.50,63.80)\"><text>2</text></g></g><g class=\"toytree-TipLabels\" style=\"fill:rgb(14.9%,14.9%,14.9%);fill-opacity:1.0;font-family:helvetica;font-size:11px;font-weight:normal;stroke:none;white-space:pre\"><g transform=\"translate(63.39,184.18)rotate(-90)\"><text style=\"\" x=\"-24.78\" y=\"2.81\">r0</text></g><g transform=\"translate(286.61,184.18)rotate(-90)\"><text style=\"\" x=\"-24.78\" y=\"2.81\">r1</text></g></g></g></g><g class=\"toyplot-coordinates-Axis\" id=\"td9cd7110d8f544239eac174accffb06c\" transform=\"translate(50.0,210.0)rotate(-90.0)translate(0,-20.0)\"><line style=\"\" x1=\"25.81619694348465\" x2=\"148.4985311665844\" y1=\"0\" y2=\"0\"></line><g><line style=\"\" x1=\"25.81619694348465\" x2=\"25.81619694348465\" y1=\"0\" y2=\"5\"></line><line style=\"\" x1=\"87.15736405503452\" x2=\"87.15736405503452\" y1=\"0\" y2=\"5\"></line><line style=\"\" x1=\"148.4985311665844\" x2=\"148.4985311665844\" y1=\"0\" y2=\"5\"></line></g><g><g transform=\"translate(25.81619694348465,-6)\"><text style=\"fill:rgb(16.1%,15.3%,14.1%);fill-opacity:1.0;font-family:helvetica;font-size:10.0px;font-weight:normal;stroke:none;vertical-align:baseline;white-space:pre\" x=\"-2.78\" y=\"-4.440892098500626e-16\">0</text></g><g transform=\"translate(87.15736405503452,-6)\"><text style=\"fill:rgb(16.1%,15.3%,14.1%);fill-opacity:1.0;font-family:helvetica;font-size:10.0px;font-weight:normal;stroke:none;vertical-align:baseline;white-space:pre\" x=\"-13.9\" y=\"-4.440892098500626e-16\">50000</text></g><g transform=\"translate(148.4985311665844,-6)\"><text style=\"fill:rgb(16.1%,15.3%,14.1%);fill-opacity:1.0;font-family:helvetica;font-size:10.0px;font-weight:normal;stroke:none;vertical-align:baseline;white-space:pre\" x=\"-16.68\" y=\"-4.440892098500626e-16\">100000</text></g></g><g class=\"toyplot-coordinates-Axis-coordinates\" style=\"visibility:hidden\" transform=\"\"><line style=\"stroke:rgb(43.9%,50.2%,56.5%);stroke-opacity:1.0;stroke-width:1.0\" x1=\"0\" x2=\"0\" y1=\"3.0\" y2=\"-4.5\"></line><text style=\"alignment-baseline:hanging;fill:rgb(43.9%,50.2%,56.5%);fill-opacity:1.0;font-size:10px;font-weight:normal;stroke:none;text-anchor:middle\" x=\"0\" y=\"6\"></text></g></g></g></svg><div class=\"toyplot-behavior\"><script>(function()\n",
       "{\n",
       "var modules={};\n",
       "modules[\"toyplot/canvas/id\"] = \"t4895531f79b042d2827c6813f6d96cb0\";\n",
       "modules[\"toyplot/canvas\"] = (function(canvas_id)\n",
       "    {\n",
       "        return document.querySelector(\"#\" + canvas_id);\n",
       "    })(modules[\"toyplot/canvas/id\"]);\n",
       "modules[\"toyplot.coordinates.Axis\"] = (\n",
       "        function(canvas)\n",
       "        {\n",
       "            function sign(x)\n",
       "            {\n",
       "                return x < 0 ? -1 : x > 0 ? 1 : 0;\n",
       "            }\n",
       "\n",
       "            function mix(a, b, amount)\n",
       "            {\n",
       "                return ((1.0 - amount) * a) + (amount * b);\n",
       "            }\n",
       "\n",
       "            function log(x, base)\n",
       "            {\n",
       "                return Math.log(Math.abs(x)) / Math.log(base);\n",
       "            }\n",
       "\n",
       "            function in_range(a, x, b)\n",
       "            {\n",
       "                var left = Math.min(a, b);\n",
       "                var right = Math.max(a, b);\n",
       "                return left <= x && x <= right;\n",
       "            }\n",
       "\n",
       "            function inside(range, projection)\n",
       "            {\n",
       "                for(var i = 0; i != projection.length; ++i)\n",
       "                {\n",
       "                    var segment = projection[i];\n",
       "                    if(in_range(segment.range.min, range, segment.range.max))\n",
       "                        return true;\n",
       "                }\n",
       "                return false;\n",
       "            }\n",
       "\n",
       "            function to_domain(range, projection)\n",
       "            {\n",
       "                for(var i = 0; i != projection.length; ++i)\n",
       "                {\n",
       "                    var segment = projection[i];\n",
       "                    if(in_range(segment.range.bounds.min, range, segment.range.bounds.max))\n",
       "                    {\n",
       "                        if(segment.scale == \"linear\")\n",
       "                        {\n",
       "                            var amount = (range - segment.range.min) / (segment.range.max - segment.range.min);\n",
       "                            return mix(segment.domain.min, segment.domain.max, amount)\n",
       "                        }\n",
       "                        else if(segment.scale[0] == \"log\")\n",
       "                        {\n",
       "                            var amount = (range - segment.range.min) / (segment.range.max - segment.range.min);\n",
       "                            var base = segment.scale[1];\n",
       "                            return sign(segment.domain.min) * Math.pow(base, mix(log(segment.domain.min, base), log(segment.domain.max, base), amount));\n",
       "                        }\n",
       "                    }\n",
       "                }\n",
       "            }\n",
       "\n",
       "            var axes = {};\n",
       "\n",
       "            function display_coordinates(e)\n",
       "            {\n",
       "                var current = canvas.createSVGPoint();\n",
       "                current.x = e.clientX;\n",
       "                current.y = e.clientY;\n",
       "\n",
       "                for(var axis_id in axes)\n",
       "                {\n",
       "                    var axis = document.querySelector(\"#\" + axis_id);\n",
       "                    var coordinates = axis.querySelector(\".toyplot-coordinates-Axis-coordinates\");\n",
       "                    if(coordinates)\n",
       "                    {\n",
       "                        var projection = axes[axis_id];\n",
       "                        var local = current.matrixTransform(axis.getScreenCTM().inverse());\n",
       "                        if(inside(local.x, projection))\n",
       "                        {\n",
       "                            var domain = to_domain(local.x, projection);\n",
       "                            coordinates.style.visibility = \"visible\";\n",
       "                            coordinates.setAttribute(\"transform\", \"translate(\" + local.x + \")\");\n",
       "                            var text = coordinates.querySelector(\"text\");\n",
       "                            text.textContent = domain.toFixed(2);\n",
       "                        }\n",
       "                        else\n",
       "                        {\n",
       "                            coordinates.style.visibility= \"hidden\";\n",
       "                        }\n",
       "                    }\n",
       "                }\n",
       "            }\n",
       "\n",
       "            canvas.addEventListener(\"click\", display_coordinates);\n",
       "\n",
       "            var module = {};\n",
       "            module.show_coordinates = function(axis_id, projection)\n",
       "            {\n",
       "                axes[axis_id] = projection;\n",
       "            }\n",
       "\n",
       "            return module;\n",
       "        })(modules[\"toyplot/canvas\"]);\n",
       "(function(axis, axis_id, projection)\n",
       "        {\n",
       "            axis.show_coordinates(axis_id, projection);\n",
       "        })(modules[\"toyplot.coordinates.Axis\"],\"td9cd7110d8f544239eac174accffb06c\",[{\"domain\": {\"bounds\": {\"max\": Infinity, \"min\": -Infinity}, \"max\": 109375.0, \"min\": -21043.12499999999}, \"range\": {\"bounds\": {\"max\": Infinity, \"min\": -Infinity}, \"max\": 160.0, \"min\": 0.0}, \"scale\": \"linear\"}]);\n",
       "})();</script></div></div>"
      ]
     },
     "metadata": {},
     "output_type": "display_data"
    }
   ],
   "source": [
    "# generate a balance tree\n",
    "tree = toytree.rtree.baltree(ntips=2, treeheight=1e5)\n",
    "\n",
    "# draw the tree w/ an admixture edge\n",
    "tree.draw(ts='p');"
   ]
  },
  {
   "cell_type": "code",
   "execution_count": null,
   "metadata": {},
   "outputs": [],
   "source": []
  }
 ],
 "metadata": {
  "kernelspec": {
   "display_name": "Python 3",
   "language": "python",
   "name": "python3"
  },
  "language_info": {
   "codemirror_mode": {
    "name": "ipython",
    "version": 3
   },
   "file_extension": ".py",
   "mimetype": "text/x-python",
   "name": "python",
   "nbconvert_exporter": "python",
   "pygments_lexer": "ipython3",
   "version": "3.6.9"
  }
 },
 "nbformat": 4,
 "nbformat_minor": 2
}
